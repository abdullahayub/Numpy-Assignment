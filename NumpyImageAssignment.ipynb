{
 "cells": [
  {
   "cell_type": "markdown",
   "id": "3441262d-9927-4408-a26b-d22f3bc91597",
   "metadata": {},
   "source": [
    "## Image Assignment"
   ]
  },
  {
   "cell_type": "code",
   "execution_count": 1,
   "id": "a9ef374e-a70d-477c-b3ac-9c69d1f2b2d8",
   "metadata": {},
   "outputs": [],
   "source": [
    "import os\n",
    "from matplotlib import pyplot as plt\n",
    "import matplotlib.pyplot as plt \n",
    "from PIL import Image,ImageOps\n",
    "import numpy as np\n",
    "import glob"
   ]
  },
  {
   "cell_type": "code",
   "execution_count": 3,
   "id": "2d82bc01-4642-41bb-9899-c539b28766d3",
   "metadata": {},
   "outputs": [],
   "source": [
    "path=os.listdir('images/')"
   ]
  },
  {
   "cell_type": "code",
   "execution_count": 5,
   "id": "076178aa-467c-4556-81c8-cf87f3ff7501",
   "metadata": {},
   "outputs": [
    {
     "name": "stdout",
     "output_type": "stream",
     "text": [
      "root directory\n",
      " images/\n",
      "sub root directory\n",
      " ['files']\n",
      "files in folder\n",
      " []\n",
      "end\n",
      "root directory\n",
      " images/files\n",
      "sub root directory\n",
      " []\n",
      "files in folder\n",
      " ['img1.jpg', 'img2.jpg', 'img3.jpg', 'img4.jpg', 'img5.jpg', 'img6.avif']\n",
      "end\n"
     ]
    }
   ],
   "source": [
    "for rootdir,subrootdir,files in os.walk('images/'):\n",
    "    print(\"root directory\\n\",rootdir)\n",
    "    print(\"sub root directory\\n\",subrootdir)\n",
    "    print(\"files in folder\\n\",files)\n",
    "    print(\"end\")"
   ]
  },
  {
   "cell_type": "code",
   "execution_count": 6,
   "id": "7db35468-628a-4ce6-b370-fff6d2c15fbe",
   "metadata": {},
   "outputs": [],
   "source": [
    "path=glob.glob('images/*.jpg')"
   ]
  },
  {
   "cell_type": "code",
   "execution_count": 8,
   "id": "8220d056-cd9a-49ce-852e-ee17577190dd",
   "metadata": {},
   "outputs": [],
   "source": [
    "main=[]\n",
    "for ims in path:\n",
    "    i=Image.open(ims)\n",
    "    #i=Image.open(path)\n",
    "    a=i.resize((200,200))\n",
    "    n=np.array(a)\n",
    "    main.append(n)\n",
    "    np.savez(\"x_array\",main)\n",
    "    print(main)\n",
    "    a.size\n",
    "    a"
   ]
  },
  {
   "cell_type": "code",
   "execution_count": 13,
   "id": "34ade630-fd06-47fa-ab13-76366bcebf18",
   "metadata": {},
   "outputs": [
    {
     "name": "stdout",
     "output_type": "stream",
     "text": [
      "<PIL.JpegImagePlugin.JpegImageFile image mode=RGB size=266x189 at 0x27E838DA5D0>\n"
     ]
    }
   ],
   "source": [
    "im = Image.open('images/files/img1.jpg')\n",
    "width, height = im.size\n",
    "print(im)"
   ]
  },
  {
   "cell_type": "code",
   "execution_count": 22,
   "id": "a29effcc-9b3d-4a1c-82e3-89e73697b704",
   "metadata": {},
   "outputs": [
    {
     "name": "stdin",
     "output_type": "stream",
     "text": [
      "enter name of file images\n"
     ]
    },
    {
     "name": "stdout",
     "output_type": "stream",
     "text": [
      "images/files\\img1.jpg\n",
      "images/files\\img2.jpg\n",
      "images/files\\img3.jpg\n",
      "images/files\\img4.jpg\n",
      "images/files\\img5.jpg\n",
      "number of files 5\n"
     ]
    }
   ],
   "source": [
    "def check():\n",
    "    fname=input('enter name of file')\n",
    "    try:\n",
    "        i=os.listdir(fname)\n",
    "    except:\n",
    "        print('files not found')\n",
    "    else:    \n",
    "        img_dir=glob.glob('images/files/*.jpg')\n",
    "        c=0\n",
    "        for i in img_dir:\n",
    "            c+=1\n",
    "            print(i)\n",
    "        print('number of files',c)\n",
    "check()    "
   ]
  },
  {
   "cell_type": "code",
   "execution_count": null,
   "id": "a60920fd-aaf7-4e67-adaf-6fd1bad86862",
   "metadata": {},
   "outputs": [],
   "source": []
  },
  {
   "cell_type": "code",
   "execution_count": null,
   "id": "fac65849-9bc9-4516-889a-36fe244abaaf",
   "metadata": {},
   "outputs": [],
   "source": []
  },
  {
   "cell_type": "code",
   "execution_count": null,
   "id": "02a93102-3cd4-4048-94b9-278fe459f39c",
   "metadata": {},
   "outputs": [],
   "source": []
  },
  {
   "cell_type": "code",
   "execution_count": null,
   "id": "363a6f75-8fca-4f0d-9a22-716062996629",
   "metadata": {},
   "outputs": [],
   "source": []
  },
  {
   "cell_type": "code",
   "execution_count": null,
   "id": "cc76e69d-b9f0-412f-a8b5-56bb915cd511",
   "metadata": {},
   "outputs": [],
   "source": []
  },
  {
   "cell_type": "code",
   "execution_count": null,
   "id": "135f2420-2af3-4f16-8611-0f4837a42ba1",
   "metadata": {},
   "outputs": [],
   "source": []
  }
 ],
 "metadata": {
  "kernelspec": {
   "display_name": "Python 3 (ipykernel)",
   "language": "python",
   "name": "python3"
  },
  "language_info": {
   "codemirror_mode": {
    "name": "ipython",
    "version": 3
   },
   "file_extension": ".py",
   "mimetype": "text/x-python",
   "name": "python",
   "nbconvert_exporter": "python",
   "pygments_lexer": "ipython3",
   "version": "3.11.7"
  }
 },
 "nbformat": 4,
 "nbformat_minor": 5
}
